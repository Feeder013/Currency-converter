{
  "nbformat": 4,
  "nbformat_minor": 0,
  "metadata": {
    "colab": {
      "provenance": [],
      "authorship_tag": "ABX9TyPoQhG7thuOuuPvULqeddEB",
      "include_colab_link": true
    },
    "kernelspec": {
      "name": "python3",
      "display_name": "Python 3"
    },
    "language_info": {
      "name": "python"
    }
  },
  "cells": [
    {
      "cell_type": "markdown",
      "metadata": {
        "id": "view-in-github",
        "colab_type": "text"
      },
      "source": [
        "<a href=\"https://colab.research.google.com/github/Feeder013/Colab-Python-projects/blob/main/Currency_converter.ipynb\" target=\"_parent\"><img src=\"https://colab.research.google.com/assets/colab-badge.svg\" alt=\"Open In Colab\"/></a>"
      ]
    },
    {
      "cell_type": "code",
      "execution_count": 5,
      "metadata": {
        "id": "BDCz0k85rTs4",
        "colab": {
          "base_uri": "https://localhost:8080/"
        },
        "outputId": "721215c5-42c3-4dca-a486-5b30ad2bb1df"
      },
      "outputs": [
        {
          "output_type": "stream",
          "name": "stdout",
          "text": [
            "the currency being addressed includes: \n",
            " \n"
          ]
        },
        {
          "output_type": "execute_result",
          "data": {
            "text/plain": [
              "{'GBP': 'Pounds Sterling',\n",
              " 'NGN': 'Nigerian Naira',\n",
              " 'EUR': 'Euros',\n",
              " 'USD': 'United States Dollar'}"
            ]
          },
          "metadata": {},
          "execution_count": 5
        }
      ],
      "source": [
        "currency_dict = { 'GBP':'Pounds Sterling', 'NGN':'Nigerian Naira', 'EUR': 'Euros','USD':'United States Dollar'}\n",
        "print('the currency being addressed includes: \\n ')\n",
        "currency_dict\n"
      ]
    },
    {
      "cell_type": "code",
      "source": [
        "Interest = input('Enter the currency of interest: ')\n",
        "Converted = input('Enter the currency you are conveerting to: ')\n",
        "amnt_of_naira = input('Enter the amount of measurement: ')\n",
        "amnt_of_dollar = input('Enter the amount of measurement: ')\n",
        "amnt_of_euros = input('Enter the amount of measurement: ')\n",
        "amnt_of_pounds = input('Enter the amount of measurement: ')\n"
      ],
      "metadata": {
        "colab": {
          "base_uri": "https://localhost:8080/"
        },
        "id": "FRUF7luYqo6M",
        "outputId": "af0af4b2-af28-4d96-9457-3dad43c303bb"
      },
      "execution_count": 8,
      "outputs": [
        {
          "name": "stdout",
          "output_type": "stream",
          "text": [
            "Enter the currency of interest: fg\n",
            "Enter the currency you are conveerting to: df\n",
            "Enter the amount of measurement: 23\n",
            "Enter the amount of measurement: 23\n",
            "Enter the amount of measurement: 12\n",
            "Enter the amount of measurement: 45\n"
          ]
        }
      ]
    },
    {
      "cell_type": "code",
      "source": [
        "Interest = input('Enter the currency of interest: ')\n",
        "Converted = input('Enter the currency you are converting to: ')\n",
        "\n",
        "if Interest.lower() in ['naira','ngn','nigerian naira']:\n",
        "     amnt_of_naira = int(input('Enter the amount of measurement: '))\n",
        "     if Converted.lower() in ['dollar','dollars','usd','dols','bucks']:\n",
        "        print(str(amnt_of_naira) + ' In Dollars equals ' + str(round(amnt_of_naira * 0.00061)) + ' USD')\n",
        "     elif Converted.lower() in ['pound','pounds','gbp','pd','quid']:\n",
        "        print(str(amnt_of_naira) + ' In Pounds equals ' + str(round(amnt_of_naira * 0.00047)) + ' GBP')\n",
        "     elif Converted.lower() in ['eur','euro','euros','all','uros']:\n",
        "        print(str(amnt_of_naira) + ' In Euros equals ' + str(round(amnt_of_naira * 0.00056)) + ' EUR')\n",
        "     else:\n",
        "        print('Please enter naira,dollar, euro or pounds only')\n",
        "elif Interest.lower() in ['dollar','dollars','usd','dols','bucks']:\n",
        "     amnt_of_dollar = int(input('Enter the amount of measurement: '))\n",
        "     if Converted.lower() in ['naira','ngn','nigerian naira']:\n",
        "        print(str(amnt_of_dollar) + ' In Naira equals ' + str(round(amnt_of_dollar * 1641)) + ' NGN')\n",
        "     elif Converted.lower() in ['pound','pounds','gbp','pd','quid']:\n",
        "        print(str(amnt_of_dollar) + ' In Pounds equals ' + str(round(amnt_of_dollar * 0.77)) + ' GBP')\n",
        "     elif Converted.lower() in ['eur','euro','euros','all','uros']:\n",
        "        print(str(amnt_of_dollar) + ' In Euros equals ' + str(round(amnt_of_dollar * 0.92)) + ' EUR')\n",
        "     else:\n",
        "        print('Please enter naira,dollar, euro or pounds only')\n",
        "elif Interest.lower() in ['pound','pounds','gbp','pd','quid']:\n",
        "     amnt_of_pounds = int(input('Enter the amount of measurement: '))\n",
        "     if Converted.lower() in ['dollar','dollars','usd','dols','bucks']:\n",
        "        print(str(amnt_of_pounds) + ' In Dollars equals ' + str(round(amnt_of_pounds * 1.29)) + ' USD')\n",
        "     elif Converted.lower() in ['naira','ngn','nigerian naira']:\n",
        "        print(str(amnt_of_pounds) +' In Naira equals ' + str(round(amnt_of_pounds * 2128)) + ' NGN')\n",
        "     elif Converted.lower() in ['eur','euro','euros','all','uros']:\n",
        "        print(str(amnt_of_pounds) +' In Euros equals ' + str(round(amnt_of_pounds * 1.19)) + ' EUR')\n",
        "     else:\n",
        "        print('Please enter naira,dollar, euro or pounds only')\n",
        "elif Interest.lower() in ['naira','ngn','nigerian naira']:\n",
        "     amnt_of_euros = int(input('Enter the amount of measurement: '))\n",
        "     if Converted.lower() in ['dollar','dollars','usd','dols','bucks']:\n",
        "        print(str(amnt_of_euros) + ' In Dollars equals ' + str(round(amnt_of_euros * 1.09)) + ' USD')\n",
        "     elif Converted.lower() in ['pound','pounds','gbp','pd','quid']:\n",
        "        print(str(amnt_of_euros) + ' In Pounds equals ' + str(round(amnt_of_euros * 0.84)) + ' GBP')\n",
        "     elif Converted.lower() in ['eur','euro','euros','all','uros']:\n",
        "        print(str(amnt_of_euros) + ' In Naira equals ' + str(round(amnt_of_euros* 1785)) + ' NGN')\n",
        "     else:\n",
        "        print('Please enter naira,dollar, euro or pounds only')\n",
        "else:\n",
        "    print('Please enter naira,dollar, euro or pounds only')"
      ],
      "metadata": {
        "colab": {
          "base_uri": "https://localhost:8080/"
        },
        "id": "russF0_nr6A_",
        "outputId": "325f6a70-1c0e-4a87-c820-f72806f0b0b8"
      },
      "execution_count": 14,
      "outputs": [
        {
          "output_type": "stream",
          "name": "stdout",
          "text": [
            "Enter the currency of interest: DOLS\n",
            "Enter the currency you are converting to: NGN\n",
            "Enter the amount of measurement: 300\n",
            "300 In Naira equals 492300 NGN\n"
          ]
        }
      ]
    }
  ]
}